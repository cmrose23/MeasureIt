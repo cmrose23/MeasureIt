{
 "cells": [
  {
   "cell_type": "code",
   "execution_count": 2,
   "id": "eb64fbf7",
   "metadata": {},
   "outputs": [],
   "source": [
    "import src\n",
    "from src.simul_sweep import SimulSweep\n",
    "from src.sweep0d import Sweep0D\n",
    "from src.sweep1d import Sweep1D\n",
    "from src.base_sweep import BaseSweep\n",
    "from src.util import init_database\n",
    "\n",
    "import time, os\n",
    "import numpy as np\n",
    "import qcodes as qc\n",
    "from qcodes import initialise_or_create_database_at, load_by_run_spec\n",
    "from qcodes import Station\n",
    "from qcodes.tests.instrument_mocks import DummyInstrument\n",
    "from qcodes.tests.instrument_mocks import MockParabola"
   ]
  },
  {
   "cell_type": "code",
   "execution_count": 3,
   "id": "abb347d6-0e7a-4edb-aa03-1ff8aacf13ef",
   "metadata": {},
   "outputs": [],
   "source": [
    "test = MockParabola('test')"
   ]
  },
  {
   "cell_type": "markdown",
   "id": "ae3062dd-8f38-4d11-8b2d-1b9a7cfde916",
   "metadata": {},
   "source": [
    "$$\\text{output} = x^2 + y^2 + z^2 + abs(noise)$$"
   ]
  },
  {
   "cell_type": "code",
   "execution_count": 24,
   "id": "d5b80c53-0d35-4067-9bea-d1ea0507199c",
   "metadata": {},
   "outputs": [],
   "source": [
    "test.noise.set(100)"
   ]
  },
  {
   "cell_type": "code",
   "execution_count": 40,
   "id": "b643a414",
   "metadata": {},
   "outputs": [],
   "source": [
    "sweep = Sweep0D(max_time = 18000000, inter_delay = 0.2, save_data = False);"
   ]
  },
  {
   "cell_type": "code",
   "execution_count": 61,
   "id": "44a98b11",
   "metadata": {},
   "outputs": [],
   "source": [
    "sweep.follow_param(test.parabola,test.skewed_parabola)"
   ]
  },
  {
   "cell_type": "code",
   "execution_count": 62,
   "id": "72e29c5a",
   "metadata": {},
   "outputs": [],
   "source": [
    "try:\n",
    "    # Make sure database_name and the path are set to the correct values!\n",
    "    database_name = \"test.db\"\n",
    "    exp_name = \"test_Parabola\";\n",
    "    sample_name='Test';\n",
    "    init_database(database_name, exp_name, sample_name, sweep)\n",
    "except:\n",
    "    print(\"Error opening database\")"
   ]
  },
  {
   "cell_type": "code",
   "execution_count": 63,
   "id": "b5f312f2",
   "metadata": {},
   "outputs": [
    {
     "name": "stdout",
     "output_type": "stream",
     "text": [
      "Ramping to our starting setpoint value of 0 a.u.\n",
      "Sweeping x to 0 a.u.\n",
      "Ramping x to 0 . . . \n",
      "Done ramping x to 0\n",
      "Sweeping x to 10 a.u.\n"
     ]
    }
   ],
   "source": [
    "%matplotlib qt\n",
    "sweep.start()\n",
    "# ramp_to_start=True"
   ]
  },
  {
   "cell_type": "code",
   "execution_count": 60,
   "id": "72a0dd2b-b2a5-40e9-a07b-eead11fa3646",
   "metadata": {},
   "outputs": [],
   "source": [
    "sweep = Sweep1D(test.x,start = 0, stop = 10, step = 0.1,bidirectional = True,save_data = False,continual=True,inter_delay=0.2)"
   ]
  },
  {
   "cell_type": "code",
   "execution_count": 59,
   "id": "541163a5-c932-4946-b45a-51411017ca47",
   "metadata": {},
   "outputs": [],
   "source": [
    "sweep.stop()"
   ]
  },
  {
   "cell_type": "code",
   "execution_count": 18,
   "id": "54c02a3b-f865-4a78-b36e-6a8c7d1d5eba",
   "metadata": {},
   "outputs": [],
   "source": [
    "test.x.set(0)"
   ]
  },
  {
   "cell_type": "code",
   "execution_count": null,
   "id": "fa054ae7-93cb-4539-8ff0-a9a2a96c72b9",
   "metadata": {},
   "outputs": [],
   "source": []
  }
 ],
 "metadata": {
  "kernelspec": {
   "display_name": "Python 3",
   "language": "python",
   "name": "python3"
  },
  "language_info": {
   "codemirror_mode": {
    "name": "ipython",
    "version": 3
   },
   "file_extension": ".py",
   "mimetype": "text/x-python",
   "name": "python",
   "nbconvert_exporter": "python",
   "pygments_lexer": "ipython3",
   "version": "3.7.9"
  }
 },
 "nbformat": 4,
 "nbformat_minor": 5
}
