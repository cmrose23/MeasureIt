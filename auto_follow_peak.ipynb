{
 "cells": [
  {
   "cell_type": "code",
   "execution_count": 2,
   "metadata": {},
   "outputs": [],
   "source": [
    "from threaded_sweep import Sweep1D, Sweep0D, Sweep2D\n",
    "from daq_driver import Daq, DaqAOChannel, DaqAIChannel\n",
    "import nidaqmx\n",
    "import numpy as np\n",
    "import qcodes as qc\n",
    "import time\n",
    "from qcodes.dataset.measurements import Measurement\n",
    "from qcodes.dataset.database import initialise_or_create_database_at\n",
    "from qcodes.dataset.data_export import get_data_by_id"
   ]
  },
  {
   "cell_type": "code",
   "execution_count": 3,
   "metadata": {},
   "outputs": [],
   "source": [
    "# initialize the DAQ\n",
    "daq = Daq(\"Dev1\", \"testdaq\")"
   ]
  },
  {
   "cell_type": "code",
   "execution_count": 4,
   "metadata": {},
   "outputs": [],
   "source": [
    "# Initialize the database you want to save data to\n",
    "try:\n",
    "    experimentName = 'test_thread_sweep2d'\n",
    "    sampleName = '0'\n",
    "    initialise_or_create_database_at('C:\\\\Users\\\\Nanouser\\\\Documents\\\\MeasureIt\\\\Databases\\\\Carbon_resistor_wo_filter.db')\n",
    "    qc.new_experiment(name=experimentName, sample_name=sampleName)\n",
    "except:\n",
    "    print(\"Error opening database\")\n",
    "    daq.device.reset_device()\n",
    "    daq.__del__()\n",
    "    quit()"
   ]
  },
  {
   "cell_type": "code",
   "execution_count": 5,
   "metadata": {},
   "outputs": [],
   "source": [
    "daq.ai0.voltage.label=\"I\"\n",
    "daq.ai1.voltage.label=\"Vxx\"\n",
    "\n",
    "%matplotlib qt"
   ]
  },
  {
   "cell_type": "code",
   "execution_count": null,
   "metadata": {},
   "outputs": [],
   "source": [
    "def track_setpoint(sweep, lines, setpoint, steps = 100):\n",
    "    if isinstance(lines, list):\n",
    "        fwd_line = lines[0]\n",
    "        bkw_line = lines[1]\n",
    "    else:\n",
    "        fwd_line = lines\n",
    "        \n",
    "    def find_point(line):\n",
    "        min_diff = float(\"inf\")\n",
    "        best_x = 0\n",
    "        best_y = 0\n",
    "        x_data, y_data = line.get_data()\n",
    "        \n",
    "        for i,y in enumerate(y_data):\n",
    "            if abs(y-setpoint)<min_diff:\n",
    "                min_diff = abs(y-setpoint)\n",
    "                best_x = x_data[i]\n",
    "                best_y = y\n",
    "        return (best_x, best_y)\n",
    "    \n",
    "    fwd_peak = find_point(fwd_line)\n",
    "    bkw_peak = find_point(bkw_line)\n",
    "    \n",
    "    avg_peak_pos = (fwd_peak[0]+bkw_peak[0])/2\n",
    "    \n",
    "    sweep.begin = avg_peak_pos - (steps/2*sweep.step)\n",
    "    sweep.end = sweep.begin + sweep.step*steps "
   ]
  },
  {
   "cell_type": "code",
   "execution_count": null,
   "metadata": {},
   "outputs": [],
   "source": [
    "def track_peak(sweep, lines, steps = 100):\n",
    "    fwd_line = lines[0]\n",
    "    bkw_line = lines[1]\n",
    "    \n",
    "    def get_peak(line):\n",
    "        max_y = float(\"-inf\")\n",
    "        max_x = 0\n",
    "        x_data, y_data = line.get_data()\n",
    "        \n",
    "        for i,y in enumerate(y_data):\n",
    "            if y > max_y:\n",
    "                max_y = y\n",
    "                max_x = x_data[i]\n",
    "        return (max_x, max_y)\n",
    "            \n",
    "    fwd_peak = get_peak(fwd_line)\n",
    "    bkw_peak = get_peak(bkw_line)\n",
    "    \n",
    "    avg_peak_pos = (fwd_peak[0]+bkw_peak[0])/2\n",
    "    \n",
    "    sweep.begin = avg_peak_pos - (steps/2*sweep.step)\n",
    "    sweep.end = sweep.begin + sweep.step*steps "
   ]
  },
  {
   "cell_type": "code",
   "execution_count": null,
   "metadata": {},
   "outputs": [],
   "source": [
    "import numpy as np\n",
    "import matplotlib as mpl\n",
    "\n",
    "def track_jump(sweep, lines, pos_jump=True, steps=100):\n",
    "    fwd_line = lines[0]\n",
    "    bkw_line = lines[1]\n",
    "    \n",
    "    d_fwd_line = mpl.lines.Line2D(fwd_line.get_xdata(), np.gradient(fwd_line.get_ydata()))\n",
    "    d_bkw_line = mpl.lines.Line2D(bkw_line.get_xdata(), np.gradient(bkw_line.get_ydata()))\n",
    "    \n",
    "    def get_peak(line):\n",
    "        if pos_jump:\n",
    "            best_y = float(\"-inf\")\n",
    "        else:\n",
    "            best_y = float(\"inf\")\n",
    "        best_x = 0\n",
    "        x_data, y_data = line.get_data()\n",
    "        \n",
    "        for i,y in enumerate(y_data):\n",
    "            if pos_jump and y > best_y:\n",
    "                best_y = y\n",
    "                best_x = x_data[i]\n",
    "            else if not pos_jump and y < best_y:\n",
    "                best_y = y\n",
    "                best_x = x_data[i]\n",
    "        return (best_x, best_y)\n",
    "    \n",
    "    d_fwd_peak = get_peak(d_fwd_line)\n",
    "    d_bkw_peak = get_peak(d_bkw_line)\n",
    "    \n",
    "    avg_peak_pos = (d_fwd_peak[0]+d_bkw_peak[0])/2\n",
    "    \n",
    "    sweep.begin = avg_peak_pos - (steps/2)*sweep.step\n",
    "    sweep.end = sweep.begin + sweep.step*steps "
   ]
  },
  {
   "cell_type": "code",
   "execution_count": null,
   "metadata": {},
   "outputs": [],
   "source": []
  },
  {
   "cell_type": "code",
   "execution_count": null,
   "metadata": {},
   "outputs": [],
   "source": [
    "# testing 2d sweep\n",
    "# Set the sweep parameters -\n",
    "# [ Parameter, start point, end point, step ]\n",
    "in_params = [daq.ao0.voltage, 0, 1, 0.01]\n",
    "out_params = [daq.ao1.voltage, 0, 1, 0.1]\n",
    "s = Sweep2D(in_params, out_params, inter_delay = 0.05, update_func = track_peak)\n",
    "s.follow_param(daq.ai0.voltage, daq.ai1.voltage, daq.ai2.voltage)\n",
    "s._create_measurement()"
   ]
  },
  {
   "cell_type": "code",
   "execution_count": null,
   "metadata": {},
   "outputs": [],
   "source": [
    "s.start()"
   ]
  }
 ],
 "metadata": {
  "kernelspec": {
   "display_name": "Python 3",
   "language": "python",
   "name": "python3"
  },
  "language_info": {
   "codemirror_mode": {
    "name": "ipython",
    "version": 3
   },
   "file_extension": ".py",
   "mimetype": "text/x-python",
   "name": "python",
   "nbconvert_exporter": "python",
   "pygments_lexer": "ipython3",
   "version": "3.7.9"
  }
 },
 "nbformat": 4,
 "nbformat_minor": 4
}
